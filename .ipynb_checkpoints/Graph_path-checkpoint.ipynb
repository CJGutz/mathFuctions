{
 "cells": [
  {
   "cell_type": "code",
   "execution_count": 5,
   "id": "b608afca",
   "metadata": {},
   "outputs": [],
   "source": [
    "graph = {\n",
    "    \"A\" : [\"B\",\"G\", \"H\"],\n",
    "    \"B\" : [\"G\", \"A\", \"H\", \"C\"],\n",
    "    \"C\" : [\"B\", \"E\", \"D\", \"F\"],\n",
    "    \"D\" : [\"E\", \"C\", \"F\"],\n",
    "    \"E\" : [\"C\", \"D\"],\n",
    "    \"F\" : [\"C\", \"D\"],\n",
    "    \"G\" : [\"A\", \"B\"],\n",
    "    \"H\" : [\"A\", \"B\"]\n",
    "}\n",
    "graph2 = {\n",
    "    \"A\" : [\"B\", \"C\", \"D\"],\n",
    "    \"B\" : [\"A\", \"D\"],\n",
    "    \"C\" : [\"A\"],\n",
    "    \"D\" : [\"A\", \"B\"]\n",
    "}"
   ]
  },
  {
   "cell_type": "code",
   "execution_count": 6,
   "id": "83729bd2",
   "metadata": {},
   "outputs": [],
   "source": [
    "visited = list()\n",
    "stack = list()"
   ]
  },
  {
   "cell_type": "code",
   "execution_count": 7,
   "id": "fea4e73e",
   "metadata": {},
   "outputs": [],
   "source": [
    "def bfs(G, start, target):\n",
    "    queue = [start]\n",
    "    while len(queue) > 0:\n",
    "        node = queue.pop(0)\n",
    "        if node == target:\n",
    "            visited.append(target)\n",
    "            return\n",
    "        if node not in visited:\n",
    "            visited.append(node)\n",
    "            for neighbour in G[node]:\n",
    "                if neighbour not in visited:\n",
    "                    queue.append(neighbour)"
   ]
  },
  {
   "cell_type": "code",
   "execution_count": 8,
   "id": "1c25bfbe",
   "metadata": {},
   "outputs": [
    {
     "name": "stdout",
     "output_type": "stream",
     "text": [
      "['G', 'A', 'B', 'H', 'C', 'E', 'D']\n"
     ]
    }
   ],
   "source": [
    "bfs(graph, \"G\", \"D\")\n",
    "print(visited)"
   ]
  },
  {
   "cell_type": "code",
   "execution_count": null,
   "id": "8249a209",
   "metadata": {},
   "outputs": [],
   "source": []
  },
  {
   "cell_type": "code",
   "execution_count": null,
   "id": "a4c756c4",
   "metadata": {},
   "outputs": [],
   "source": []
  },
  {
   "cell_type": "code",
   "execution_count": null,
   "id": "f5d56d60",
   "metadata": {},
   "outputs": [],
   "source": []
  },
  {
   "cell_type": "code",
   "execution_count": null,
   "id": "fc2b5ab6",
   "metadata": {},
   "outputs": [],
   "source": []
  },
  {
   "cell_type": "code",
   "execution_count": null,
   "id": "e1aa8182",
   "metadata": {},
   "outputs": [],
   "source": []
  },
  {
   "cell_type": "code",
   "execution_count": null,
   "id": "9a7a8332",
   "metadata": {},
   "outputs": [],
   "source": []
  }
 ],
 "metadata": {
  "kernelspec": {
   "display_name": "Python 3",
   "language": "python",
   "name": "python3"
  },
  "language_info": {
   "codemirror_mode": {
    "name": "ipython",
    "version": 3
   },
   "file_extension": ".py",
   "mimetype": "text/x-python",
   "name": "python",
   "nbconvert_exporter": "python",
   "pygments_lexer": "ipython3",
   "version": "3.8.8"
  }
 },
 "nbformat": 4,
 "nbformat_minor": 5
}
