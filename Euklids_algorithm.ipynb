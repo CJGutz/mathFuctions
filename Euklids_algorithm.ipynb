{
 "cells": [
  {
   "cell_type": "code",
   "execution_count": 1,
   "id": "0318cea2",
   "metadata": {},
   "outputs": [],
   "source": [
    "def gcd(dividend, divider):\n",
    "    if dividend % divider == 0:\n",
    "        return divider\n",
    "    return gcd(divider, dividend % divider)\n"
   ]
  },
  {
   "cell_type": "code",
   "execution_count": 2,
   "id": "0a6c820a",
   "metadata": {},
   "outputs": [
    {
     "name": "stdout",
     "output_type": "stream",
     "text": [
      "65\n"
     ]
    }
   ],
   "source": [
    "print(gcd(8775, 31460))"
   ]
  },
  {
   "cell_type": "code",
   "execution_count": 1,
   "id": "eeb2f51c",
   "metadata": {},
   "outputs": [],
   "source": [
    "def lcm(a, b):\n",
    "    product = a*b\n",
    "    for i in range (2,50):\n",
    "        if "
   ]
  },
  {
   "cell_type": "code",
   "execution_count": null,
   "id": "083b1322",
   "metadata": {},
   "outputs": [],
   "source": [
    "print(lcm(41087970,448232400))"
   ]
  },
  {
   "cell_type": "code",
   "execution_count": 2,
   "id": "c96726d8",
   "metadata": {},
   "outputs": [
    {
     "data": {
      "text/plain": [
       "4930556400"
      ]
     },
     "execution_count": 2,
     "metadata": {},
     "output_type": "execute_result"
    }
   ],
   "source": [
    "2*2*2*2*3*3*3*5*5*7*7*7*11*11*11"
   ]
  },
  {
   "cell_type": "code",
   "execution_count": null,
   "id": "673ac45e",
   "metadata": {},
   "outputs": [],
   "source": []
  }
 ],
 "metadata": {
  "kernelspec": {
   "display_name": "Python 3",
   "language": "python",
   "name": "python3"
  },
  "language_info": {
   "codemirror_mode": {
    "name": "ipython",
    "version": 3
   },
   "file_extension": ".py",
   "mimetype": "text/x-python",
   "name": "python",
   "nbconvert_exporter": "python",
   "pygments_lexer": "ipython3",
   "version": "3.8.8"
  }
 },
 "nbformat": 4,
 "nbformat_minor": 5
}
