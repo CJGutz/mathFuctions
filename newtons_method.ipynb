{
 "cells": [
  {
   "cell_type": "code",
   "execution_count": 4,
   "metadata": {},
   "outputs": [],
   "source": [
    "import math\n",
    "import numpy as np"
   ]
  },
  {
   "cell_type": "code",
   "execution_count": 62,
   "metadata": {},
   "outputs": [],
   "source": [
    "def f(x):\n",
    "    y = np.exp(x)-3*x\n",
    "    return y"
   ]
  },
  {
   "cell_type": "code",
   "execution_count": 63,
   "metadata": {},
   "outputs": [],
   "source": [
    "def f_d(x):\n",
    "    y = np.exp(x)-3\n",
    "    return y"
   ]
  },
  {
   "cell_type": "code",
   "execution_count": 64,
   "metadata": {},
   "outputs": [],
   "source": [
    "def newtons_method(x_n):\n",
    "    return x_n - f(x_n)/f_d(x_n)"
   ]
  },
  {
   "cell_type": "code",
   "execution_count": 66,
   "metadata": {},
   "outputs": [
    {
     "name": "stdout",
     "output_type": "stream",
     "text": [
      "Choose x1 = starting value:\n",
      "Choose number of decimal places (>0):\n",
      "0.6190612867359452\n"
     ]
    }
   ],
   "source": [
    "change = math.inf\n",
    "print(\"Choose x1 = starting value:\")\n",
    "x_n = float(input())\n",
    "print(\"Choose number of decimal places (>0):\")\n",
    "antall_desimaler = 10**(-float(input()))\n",
    "while (change > antall_desimaler):\n",
    "    x_n_plus_1 = newtons_method(x_n)\n",
    "    change = abs(x_n_plus_1 - x_n)\n",
    "    x_n = x_n_plus_1\n",
    "\n",
    "print(x_n)"
   ]
  },
  {
   "cell_type": "code",
   "execution_count": 50,
   "metadata": {},
   "outputs": [],
   "source": [
    "# Versjon vegard"
   ]
  },
  {
   "cell_type": "code",
   "execution_count": 5,
   "metadata": {},
   "outputs": [],
   "source": [
    "N = 10\n",
    "x = np.zeros(N+1)\n",
    "desimaler = int(input(\"Oppgi antall ønsket desimaler: \"))\n",
    "x[0] = float(input(\"Oppgi startverdi: \"))\n"
   ]
  },
  {
   "cell_type": "code",
   "execution_count": 1,
   "metadata": {},
   "outputs": [],
   "source": [
    "def f(x):\n",
    "    y = 2 - 2*x - np.arctan(x)**2\n",
    "    return y"
   ]
  },
  {
   "cell_type": "code",
   "execution_count": 2,
   "metadata": {},
   "outputs": [],
   "source": [
    "def f_d(x):\n",
    "   y = (-2*np.arctan(x) - 2*x**2 - 2)/(x**2 - 1)\n",
    "   return y"
   ]
  },
  {
   "cell_type": "code",
   "execution_count": 7,
   "metadata": {},
   "outputs": [],
   "source": [
    "for i in range(0, N):\n",
    "    x[i+1] = x[i] - f(x[i])/f_d(x[i])\n",
    "if np.round(x[i+1], desimaler+2) == np.round(x[i], desimaler+2):\n",
    "    print(np.round(x[i], desimaler))"
   ]
  },
  {
   "cell_type": "code",
   "execution_count": 10,
   "metadata": {},
   "outputs": [
    {
     "name": "stdout",
     "output_type": "stream",
     "text": [
      "0.768\n"
     ]
    }
   ],
   "source": [
    "import numpy as np\n",
    "def f(x):\n",
    "    return np.log(np.sin(x) + 1) # Endring\n",
    "\n",
    "h = np.pi / 4\n",
    "\n",
    "sum = h * f(np.pi/8)\n",
    "sum = sum + f(np.pi * 3/8) * h\n",
    "\n",
    "print(round(sum, 3))"
   ]
  },
  {
   "cell_type": "code",
   "execution_count": null,
   "metadata": {},
   "outputs": [],
   "source": []
  }
 ],
 "metadata": {
  "interpreter": {
   "hash": "fb5e459a3623c76ee07ebaeab54d75ddd151577d529434764662853c09819688"
  },
  "kernelspec": {
   "display_name": "Python 3.8.8 64-bit ('base': conda)",
   "name": "python3"
  },
  "language_info": {
   "codemirror_mode": {
    "name": "ipython",
    "version": 3
   },
   "file_extension": ".py",
   "mimetype": "text/x-python",
   "name": "python",
   "nbconvert_exporter": "python",
   "pygments_lexer": "ipython3",
   "version": "3.8.8"
  },
  "orig_nbformat": 4
 },
 "nbformat": 4,
 "nbformat_minor": 2
}
