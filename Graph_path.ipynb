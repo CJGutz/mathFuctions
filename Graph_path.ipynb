{
 "cells": [
  {
   "cell_type": "code",
   "execution_count": 5,
   "id": "b608afca",
   "metadata": {},
   "outputs": [],
   "source": [
    "graph = {\n",
    "    \"A\" : [\"B\",\"G\", \"H\"],\n",
    "    \"B\" : [\"G\", \"A\", \"H\", \"C\"],\n",
    "    \"C\" : [\"B\", \"E\", \"D\", \"F\"],\n",
    "    \"D\" : [\"E\", \"C\", \"F\"],\n",
    "    \"E\" : [\"C\", \"D\"],\n",
    "    \"F\" : [\"C\", \"D\"],\n",
    "    \"G\" : [\"A\", \"B\"],\n",
    "    \"H\" : [\"A\", \"B\"]\n",
    "}\n",
    "graph2 = {\n",
    "    \"A\" : [\"B\", \"C\", \"D\"],\n",
    "    \"B\" : [\"A\", \"D\"],\n",
    "    \"C\" : [\"A\"],\n",
    "    \"D\" : [\"A\", \"B\"]\n",
    "}"
   ]
  },
  {
   "cell_type": "code",
   "execution_count": 6,
   "id": "83729bd2",
   "metadata": {},
   "outputs": [],
   "source": [
    "visited = list()\n",
    "stack = list()"
   ]
  },
  {
   "cell_type": "code",
   "execution_count": 7,
   "id": "fea4e73e",
   "metadata": {},
   "outputs": [],
   "source": [
    "def bfs(G, start, target):\n",
    "    queue = [start]\n",
    "    while len(queue) > 0:\n",
    "        node = queue.pop(0)\n",
    "        if node == target:\n",
    "            visited.append(target)\n",
    "            return\n",
    "        if node not in visited:\n",
    "            visited.append(node)\n",
    "            for neighbour in G[node]:\n",
    "                if neighbour not in visited:\n",
    "                    queue.append(neighbour)"
   ]
  },
  {
   "cell_type": "code",
   "execution_count": 8,
   "id": "1c25bfbe",
   "metadata": {},
   "outputs": [
    {
     "name": "stdout",
     "output_type": "stream",
     "text": [
      "['G', 'A', 'B', 'H', 'C', 'E', 'D']\n"
     ]
    }
   ],
   "source": [
    "bfs(graph, \"G\", \"D\")\n",
    "print(visited)"
   ]
  },
  {
   "cell_type": "code",
   "execution_count": 2,
   "id": "8249a209",
   "metadata": {},
   "outputs": [],
   "source": [
    "import math"
   ]
  },
  {
   "cell_type": "code",
   "execution_count": 32,
   "id": "15c32724",
   "metadata": {},
   "outputs": [],
   "source": [
    "class Edge:\n",
    "    def __init__(self, nodeOne, distance, nodeTwo):\n",
    "        self.nodeOne = nodeOne\n",
    "        self.distance = distance\n",
    "        self.nodeTwo = nodeTwo\n",
    "        \n",
    "    def has_node(self, node):\n",
    "        return self.nodeOne == node or self.nodeTwo == node   \n",
    "    \n",
    "    def neighbour(self, node):\n",
    "        if node == self.nodeOne:\n",
    "            return self.nodeTwo\n",
    "        return self.nodeOne"
   ]
  },
  {
   "cell_type": "code",
   "execution_count": 33,
   "id": "f5d56d60",
   "metadata": {},
   "outputs": [],
   "source": [
    "class Graph:\n",
    "    edges = list()\n",
    "    \n",
    "    def add(self, nodeOne, dist, nodeTwo):\n",
    "        self.edges.append(Edge(nodeOne, dist, nodeTwo))\n",
    "\n",
    "    def get_neighbours(self, node):\n",
    "        neighbours = list()\n",
    "        for edge in self.edges:\n",
    "            if edge.has_node(node):\n",
    "                neighbours.append(edge.neighbour(node))\n",
    "        return neighbours\n",
    "\n",
    "    def get_nodes(self):\n",
    "        nodes = set()\n",
    "        for edge in self.edges:\n",
    "            nodes.add(edge.nodeOne)\n",
    "            nodes.add(edge.nodeTwo)\n",
    "        return nodes\n",
    "    \n",
    "    def get_edges(self, node):\n",
    "        edges = list()\n",
    "        for edge in self.edges:\n",
    "            if edge.has_node(node):\n",
    "                edges.append(edge)\n",
    "                \n",
    "        return edges\n",
    "            \n",
    "    def get_distance(self, nodeOne, nodeTwo):\n",
    "        for edge in self.get_edges(nodeOne):\n",
    "            if edge.has_node(nodeTwo):\n",
    "                return edge.distance\n",
    "        \n",
    "        "
   ]
  },
  {
   "cell_type": "code",
   "execution_count": 34,
   "id": "fc2b5ab6",
   "metadata": {},
   "outputs": [],
   "source": [
    "graph = Graph()\n",
    "# Sides\n",
    "graph.add(\"d\", 73,\"c\")\n",
    "graph.add(\"c\", 37,\"j\")\n",
    "graph.add(\"j\", 2, \"k\")\n",
    "graph.add(\"k\", 11,\"s\")\n",
    "graph.add(\"s\", 83,\"a\")\n",
    "graph.add(\"a\", 5,\"r\")\n",
    "graph.add(\"r\", 53,\"e\")\n",
    "graph.add(\"e\", 19,\"f\")\n",
    "graph.add(\"f\", 23,\"g\")\n",
    "graph.add(\"g\", 29,\"d\")\n",
    "# diagonals\n",
    "graph.add(\"d\", 31,\"i\")\n",
    "graph.add(\"j\", 7, \"i\")\n",
    "graph.add(\"s\", 41,\"i\")\n",
    "graph.add(\"f\", 67, \"i\")\n",
    "graph.add(\"f\", 59, \"r\")\n",
    "graph.add(\"s\", 79, \"r\")\n",
    "# straights\n",
    "graph.add(\"c\", 71, \"i\")\n",
    "graph.add(\"k\", 43, \"i\")\n",
    "graph.add(\"g\", 47, \"i\")\n",
    "graph.add(\"t\", 61, \"i\")\n",
    "graph.add(\"f\", 13, \"t\")\n",
    "graph.add(\"s\", 3, \"t\")\n",
    "graph.add(\"r\", 17, \"t\")"
   ]
  },
  {
   "cell_type": "code",
   "execution_count": 73,
   "id": "e1aa8182",
   "metadata": {},
   "outputs": [],
   "source": [
    "def dij(graph, source):\n",
    "    d = dict()\n",
    "    for node in graph.get_nodes():\n",
    "        d[node] = math.inf\n",
    "    d[source] = 0\n",
    "    Q = list(graph.get_nodes())\n",
    "    Q.sort(key=lambda x: d[x])\n",
    "    \n",
    "    while len(Q) > 0:\n",
    "        node = Q.pop(0)\n",
    "        for neighbour in graph.get_neighbours(node):\n",
    "                d[neighbour] = min(d[node] + graph.get_distance(node, neighbour), d[neighbour])\n",
    "    return d"
   ]
  },
  {
   "cell_type": "code",
   "execution_count": 74,
   "id": "9a7a8332",
   "metadata": {},
   "outputs": [
    {
     "name": "stdout",
     "output_type": "stream",
     "text": [
      "{'e': 71, 'r': 82, 'i': 31, 'a': 155, 'g': 29, 'f': 52, 'k': 40, 'd': 0, 'j': 38, 's': 68, 't': 65, 'c': 73}\n",
      "['d', 'g', 'i', 'j', 'k', 'f', 't', 's', 'e', 'c', 'r', 'a']\n"
     ]
    }
   ],
   "source": [
    "d = dij(graph, \"d\")\n",
    "print(d)\n",
    "print(sorted(list(d), key=lambda x: d[x]))"
   ]
  },
  {
   "cell_type": "code",
   "execution_count": null,
   "id": "10a543bd",
   "metadata": {},
   "outputs": [],
   "source": []
  },
  {
   "cell_type": "code",
   "execution_count": null,
   "id": "bd6d7bbf",
   "metadata": {},
   "outputs": [],
   "source": []
  },
  {
   "cell_type": "code",
   "execution_count": null,
   "id": "349fd520",
   "metadata": {},
   "outputs": [],
   "source": []
  },
  {
   "cell_type": "code",
   "execution_count": null,
   "id": "e2977f61",
   "metadata": {},
   "outputs": [],
   "source": []
  },
  {
   "cell_type": "code",
   "execution_count": 75,
   "id": "0e1957a7",
   "metadata": {},
   "outputs": [
    {
     "name": "stdout",
     "output_type": "stream",
     "text": [
      "Distance of  a  from source vertex:  0\n",
      "Distance of  b  from source vertex:  3\n",
      "Distance of  c  from source vertex:  1\n",
      "Distance of  d  from source vertex:  2\n",
      "Distance of  e  from source vertex:  4\n",
      "Distance of  f  from source vertex:  4\n",
      "Distance of  g  from source vertex:  3\n"
     ]
    }
   ],
   "source": [
    "# Dijkstra's Algorithm in Python\n",
    "\n",
    "\n",
    "import sys\n",
    "\n",
    "# Providing the graph\n",
    "vertices = [[0, 0, 1, 1, 0, 0, 0],\n",
    "            [0, 0, 1, 0, 0, 1, 0],\n",
    "            [1, 1, 0, 1, 1, 0, 0],\n",
    "            [1, 0, 1, 0, 0, 0, 1],\n",
    "            [0, 0, 1, 0, 0, 1, 0],\n",
    "            [0, 1, 0, 0, 1, 0, 1],\n",
    "            [0, 0, 0, 1, 0, 1, 0]]\n",
    "\n",
    "edges = [[0, 0, 1, 2, 0, 0, 0],\n",
    "         [0, 0, 2, 0, 0, 3, 0],\n",
    "         [1, 2, 0, 1, 3, 0, 0],\n",
    "         [2, 0, 1, 0, 0, 0, 1],\n",
    "         [0, 0, 3, 0, 0, 2, 0],\n",
    "         [0, 3, 0, 0, 2, 0, 1],\n",
    "         [0, 0, 0, 1, 0, 1, 0]]\n",
    "\n",
    "# Find which vertex is to be visited next\n",
    "def to_be_visited():\n",
    "    global visited_and_distance\n",
    "    v = -10\n",
    "    for index in range(num_of_vertices):\n",
    "        if visited_and_distance[index][0] == 0 \\\n",
    "            and (v < 0 or visited_and_distance[index][1] <=\n",
    "                 visited_and_distance[v][1]):\n",
    "            v = index\n",
    "    return v\n",
    "\n",
    "\n",
    "num_of_vertices = len(vertices[0])\n",
    "\n",
    "visited_and_distance = [[0, 0]]\n",
    "for i in range(num_of_vertices-1):\n",
    "    visited_and_distance.append([0, sys.maxsize])\n",
    "\n",
    "for vertex in range(num_of_vertices):\n",
    "\n",
    "    # Find next vertex to be visited\n",
    "    to_visit = to_be_visited()\n",
    "    for neighbor_index in range(num_of_vertices):\n",
    "\n",
    "        # Updating new distances\n",
    "        if vertices[to_visit][neighbor_index] == 1 and \\\n",
    "                visited_and_distance[neighbor_index][0] == 0:\n",
    "            new_distance = visited_and_distance[to_visit][1] \\\n",
    "                + edges[to_visit][neighbor_index]\n",
    "            if visited_and_distance[neighbor_index][1] > new_distance:\n",
    "                visited_and_distance[neighbor_index][1] = new_distance\n",
    "        \n",
    "        visited_and_distance[to_visit][0] = 1\n",
    "\n",
    "i = 0\n",
    "\n",
    "# Printing the distance\n",
    "for distance in visited_and_distance:\n",
    "    print(\"Distance of \", chr(ord('a') + i),\n",
    "          \" from source vertex: \", distance[1])\n",
    "    i = i + 1"
   ]
  },
  {
   "cell_type": "code",
   "execution_count": null,
   "id": "e3c94614",
   "metadata": {},
   "outputs": [],
   "source": []
  }
 ],
 "metadata": {
  "kernelspec": {
   "display_name": "Python 3",
   "language": "python",
   "name": "python3"
  },
  "language_info": {
   "codemirror_mode": {
    "name": "ipython",
    "version": 3
   },
   "file_extension": ".py",
   "mimetype": "text/x-python",
   "name": "python",
   "nbconvert_exporter": "python",
   "pygments_lexer": "ipython3",
   "version": "3.8.8"
  }
 },
 "nbformat": 4,
 "nbformat_minor": 5
}
