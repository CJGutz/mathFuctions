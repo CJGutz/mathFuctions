{
 "cells": [
  {
   "cell_type": "code",
   "execution_count": 18,
   "source": [
    "import math"
   ],
   "outputs": [],
   "metadata": {}
  },
  {
   "cell_type": "code",
   "execution_count": 19,
   "source": [
    "def f(x):\r\n",
    "    y = math.e**x + x - 4\r\n",
    "    return y"
   ],
   "outputs": [],
   "metadata": {}
  },
  {
   "cell_type": "code",
   "execution_count": 20,
   "source": [
    "def f_d(x):\r\n",
    "    y = math.e**x + 1\r\n",
    "    return y"
   ],
   "outputs": [],
   "metadata": {}
  },
  {
   "cell_type": "code",
   "execution_count": 21,
   "source": [
    "def newtons_metode(x_n):\r\n",
    "    return x_n - f(x_n)/f_d(x_n)"
   ],
   "outputs": [],
   "metadata": {}
  },
  {
   "cell_type": "code",
   "execution_count": 52,
   "source": [
    "change = math.inf\r\n",
    "x_n = float(input())\r\n",
    "antall_desimaler = 10**(-float(input()))\r\n",
    "while (change > antall_desimaler):\r\n",
    "    x_n_pluss_1 = newtons_metode(x_n)\r\n",
    "    change = abs(x_n_pluss_1 - x_n)\r\n",
    "    x_n = x_n_pluss_1\r\n",
    "\r\n",
    "print(x_n)"
   ],
   "outputs": [
    {
     "output_type": "stream",
     "name": "stdout",
     "text": [
      "1.0737289375565124\n"
     ]
    }
   ],
   "metadata": {}
  },
  {
   "cell_type": "code",
   "execution_count": null,
   "source": [],
   "outputs": [],
   "metadata": {}
  }
 ],
 "metadata": {
  "orig_nbformat": 4,
  "language_info": {
   "name": "python",
   "version": "3.8.8",
   "mimetype": "text/x-python",
   "codemirror_mode": {
    "name": "ipython",
    "version": 3
   },
   "pygments_lexer": "ipython3",
   "nbconvert_exporter": "python",
   "file_extension": ".py"
  },
  "kernelspec": {
   "name": "python3",
   "display_name": "Python 3.8.8 64-bit ('base': conda)"
  },
  "interpreter": {
   "hash": "fb5e459a3623c76ee07ebaeab54d75ddd151577d529434764662853c09819688"
  }
 },
 "nbformat": 4,
 "nbformat_minor": 2
}