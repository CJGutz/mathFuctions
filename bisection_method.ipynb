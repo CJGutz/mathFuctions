{
 "cells": [
  {
   "cell_type": "code",
   "execution_count": 11,
   "metadata": {},
   "outputs": [],
   "source": [
    "import numpy as np"
   ]
  },
  {
   "cell_type": "code",
   "execution_count": 73,
   "metadata": {},
   "outputs": [],
   "source": [
    "def f(x):\n",
    "    y = np.exp(x)-3*x\n",
    "    return y"
   ]
  },
  {
   "cell_type": "code",
   "execution_count": 74,
   "metadata": {},
   "outputs": [],
   "source": [
    "def find_midpoint(interval, decimals):\n",
    "    x1, x2 = interval\n",
    "\n",
    "    if round(abs(x1-x2), decimals) == round(abs(x1-x2)/2, decimals):\n",
    "        print(round((x1 + x2)/2, decimals))\n",
    "        return\n",
    "\n",
    "    c = (x1 + x2)/2\n",
    "    interval = (x1, c) if not f(x1)/abs(f(x1)) == f(c)/abs(f(c)) else (c, x2)\n",
    "    find_midpoint(interval, decimals)"
   ]
  },
  {
   "cell_type": "code",
   "execution_count": 80,
   "metadata": {},
   "outputs": [
    {
     "name": "stdout",
     "output_type": "stream",
     "text": [
      "0.19999\n"
     ]
    }
   ],
   "source": [
    "x1 = float(input(\"Select first point\"))\n",
    "x2 = float(input(\"Select second point\"))\n",
    "decimals = int(input(\"Select number of decimals\"))\n",
    "find_midpoint((x1, x2), decimals)"
   ]
  },
  {
   "cell_type": "code",
   "execution_count": null,
   "metadata": {},
   "outputs": [],
   "source": []
  }
 ],
 "metadata": {
  "interpreter": {
   "hash": "fb5e459a3623c76ee07ebaeab54d75ddd151577d529434764662853c09819688"
  },
  "kernelspec": {
   "display_name": "Python 3.8.8 64-bit ('base': conda)",
   "name": "python3"
  },
  "language_info": {
   "codemirror_mode": {
    "name": "ipython",
    "version": 3
   },
   "file_extension": ".py",
   "mimetype": "text/x-python",
   "name": "python",
   "nbconvert_exporter": "python",
   "pygments_lexer": "ipython3",
   "version": "3.8.8"
  },
  "orig_nbformat": 4
 },
 "nbformat": 4,
 "nbformat_minor": 2
}
