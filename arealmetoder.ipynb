{
 "cells": [
  {
   "cell_type": "code",
   "execution_count": 2,
   "metadata": {},
   "outputs": [],
   "source": [
    "import numpy as np"
   ]
  },
  {
   "cell_type": "code",
   "execution_count": 3,
   "metadata": {},
   "outputs": [],
   "source": [
    "def f(x):\n",
    "    y = np.log(np.sin(x) + 1)\n",
    "    return y"
   ]
  },
  {
   "cell_type": "code",
   "execution_count": 4,
   "metadata": {},
   "outputs": [
    {
     "name": "stdout",
     "output_type": "stream",
     "text": [
      "0.0 1.57 2 3\n"
     ]
    }
   ],
   "source": [
    "a = float(input(\"Oppgi start\"))\n",
    "b = float(input(\"Oppgi slutt\"))\n",
    "n = int(input(\"Oppgi antall rektangler\"))\n",
    "desimaler = int(input(\"Oppgi antall desimaler\"))\n",
    "delta_x = (b - a)/n\n",
    "print(a, b, n, desimaler)"
   ]
  },
  {
   "cell_type": "code",
   "execution_count": 5,
   "metadata": {},
   "outputs": [
    {
     "name": "stdout",
     "output_type": "stream",
     "text": [
      "0.768\n"
     ]
    }
   ],
   "source": [
    "# Midtpunktsmetoden\n",
    "x_m = a + delta_x/2\n",
    "sum = 0\n",
    "for i in range(0, n):\n",
    "    sum += f(x_m + i * delta_x) * delta_x\n",
    "\n",
    "print(round(sum, desimaler))"
   ]
  },
  {
   "cell_type": "code",
   "execution_count": 24,
   "metadata": {},
   "outputs": [
    {
     "name": "stdout",
     "output_type": "stream",
     "text": [
      "0.605\n"
     ]
    }
   ],
   "source": [
    "# Trapesmetoden\n",
    "sum = f(a)\n",
    "for i in range(1, n):\n",
    "    sum += 2 * f(a + i * delta_x)\n",
    "\n",
    "sum += f(b)\n",
    "sum *= delta_x/2\n",
    "print(round(sum, desimaler))"
   ]
  },
  {
   "cell_type": "code",
   "execution_count": 25,
   "metadata": {},
   "outputs": [
    {
     "name": "stdout",
     "output_type": "stream",
     "text": [
      "0.634\n"
     ]
    }
   ],
   "source": [
    "# Simpsons metode\n",
    "if not n % 2 == 0:\n",
    "    print(\"n må være et partall\")\n",
    "else:\n",
    "    sum = f(a)\n",
    "    for i in range(1, int(n/2)+1):\n",
    "        sum += 4 * f(a + (2*i -1) * delta_x) # + 4f(x_i) for i = 1,3,5,...,n-1\n",
    "    for i in range(1, int(n/2)):\n",
    "        sum += 2 * f(a + 2*i * delta_x) # + 2f(x_i) for i = 2,4,6,...,n-2\n",
    "    sum += f(b)\n",
    "    sum *= delta_x/3\n",
    "    \n",
    "    print(round(sum, desimaler))"
   ]
  },
  {
   "cell_type": "code",
   "execution_count": null,
   "metadata": {},
   "outputs": [],
   "source": []
  },
  {
   "cell_type": "code",
   "execution_count": null,
   "metadata": {},
   "outputs": [],
   "source": []
  },
  {
   "cell_type": "code",
   "execution_count": null,
   "metadata": {},
   "outputs": [],
   "source": []
  }
 ],
 "metadata": {
  "interpreter": {
   "hash": "fb5e459a3623c76ee07ebaeab54d75ddd151577d529434764662853c09819688"
  },
  "kernelspec": {
   "display_name": "Python 3.8.8 64-bit ('base': conda)",
   "name": "python3"
  },
  "language_info": {
   "codemirror_mode": {
    "name": "ipython",
    "version": 3
   },
   "file_extension": ".py",
   "mimetype": "text/x-python",
   "name": "python",
   "nbconvert_exporter": "python",
   "pygments_lexer": "ipython3",
   "version": "3.8.8"
  },
  "orig_nbformat": 4
 },
 "nbformat": 4,
 "nbformat_minor": 2
}
